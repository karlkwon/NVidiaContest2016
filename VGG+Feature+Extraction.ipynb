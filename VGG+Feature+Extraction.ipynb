{
 "cells": [
  {
   "cell_type": "code",
   "execution_count": 3,
   "metadata": {
    "collapsed": false
   },
   "outputs": [
    {
     "name": "stdout",
     "output_type": "stream",
     "text": [
      "Reading package lists... Done\n",
      "Building dependency tree       \n",
      "Reading state information... Done\n",
      "E: Unable to locate package wget\n"
     ]
    }
   ],
   "source": [
    "!sudo apt-get install wget"
   ]
  },
  {
   "cell_type": "markdown",
   "metadata": {},
   "source": [
    "https://github.com/psygrammer/cav/blob/master/part4/tensorflow/VGG/Using_Pre-trained_Model_VGG.ipynb<br>\n",
    "http://www.vlfeat.org/matconvnet/models/beta16/imagenet-vgg-verydeep-19.mat<br>"
   ]
  },
  {
   "cell_type": "code",
   "execution_count": 5,
   "metadata": {
    "collapsed": false
   },
   "outputs": [
    {
     "name": "stdout",
     "output_type": "stream",
     "text": [
      "/bin/sh: 1: wget: not found\r\n"
     ]
    }
   ],
   "source": [
    "!wget http://www.vlfeat.org/matconvnet/models/beta16/imagenet-vgg-verydeep-19.mat"
   ]
  },
  {
   "cell_type": "code",
   "execution_count": 6,
   "metadata": {
    "collapsed": false
   },
   "outputs": [
    {
     "name": "stdout",
     "output_type": "stream",
     "text": [
      "CNN basic.ipynb     VGG Feature.ipynb  resize image.ipynb\r\n",
      "Data loading.ipynb  nets\r\n"
     ]
    }
   ],
   "source": [
    "!ls"
   ]
  },
  {
   "cell_type": "code",
   "execution_count": 1,
   "metadata": {
    "collapsed": false
   },
   "outputs": [],
   "source": [
    "import scipy.io\n",
    "import numpy as np\n",
    "import os\n",
    "import scipy.misc\n",
    "import matplotlib.pyplot as plt\n",
    "import tensorflow as tf\n",
    "\n",
    "%matplotlib inline"
   ]
  },
  {
   "cell_type": "code",
   "execution_count": 2,
   "metadata": {
    "collapsed": true
   },
   "outputs": [],
   "source": [
    "D_DATA_PATH = '/data/model/imagenet-vgg-verydeep-19.mat'\n",
    "D_IMG_FILENAME = 'train/apple_pie/100605.jpg'\n",
    "D_IMG_PATH = '/data/nv_dlcontest_dataset/'"
   ]
  },
  {
   "cell_type": "markdown",
   "metadata": {},
   "source": [
    "## Model loading & check"
   ]
  },
  {
   "cell_type": "code",
   "execution_count": 76,
   "metadata": {
    "collapsed": true
   },
   "outputs": [],
   "source": [
    "data = scipy.io.loadmat(D_DATA_PATH)"
   ]
  },
  {
   "cell_type": "code",
   "execution_count": 77,
   "metadata": {
    "collapsed": false
   },
   "outputs": [
    {
     "data": {
      "text/plain": [
       "['layers',\n",
       " '__header__',\n",
       " '__globals__',\n",
       " 'classes',\n",
       " '__version__',\n",
       " 'normalization']"
      ]
     },
     "execution_count": 77,
     "metadata": {},
     "output_type": "execute_result"
    }
   ],
   "source": [
    "data.keys()"
   ]
  },
  {
   "cell_type": "markdown",
   "metadata": {},
   "source": [
    "## get nomalized data"
   ]
  },
  {
   "cell_type": "code",
   "execution_count": 78,
   "metadata": {
    "collapsed": false
   },
   "outputs": [
    {
     "data": {
      "text/plain": [
       "numpy.ndarray"
      ]
     },
     "execution_count": 78,
     "metadata": {},
     "output_type": "execute_result"
    }
   ],
   "source": [
    "type(data['normalization'])"
   ]
  },
  {
   "cell_type": "code",
   "execution_count": 79,
   "metadata": {
    "collapsed": false
   },
   "outputs": [
    {
     "data": {
      "text/plain": [
       "2"
      ]
     },
     "execution_count": 79,
     "metadata": {},
     "output_type": "execute_result"
    }
   ],
   "source": [
    "data['normalization'].ndim"
   ]
  },
  {
   "cell_type": "code",
   "execution_count": 80,
   "metadata": {
    "collapsed": false
   },
   "outputs": [
    {
     "data": {
      "text/plain": [
       "224"
      ]
     },
     "execution_count": 80,
     "metadata": {},
     "output_type": "execute_result"
    }
   ],
   "source": [
    "len(data['normalization'][0][0][0])"
   ]
  },
  {
   "cell_type": "code",
   "execution_count": 81,
   "metadata": {
    "collapsed": true
   },
   "outputs": [],
   "source": [
    "mean = data['normalization'][0][0][0]"
   ]
  },
  {
   "cell_type": "code",
   "execution_count": 82,
   "metadata": {
    "collapsed": false
   },
   "outputs": [
    {
     "data": {
      "text/plain": [
       "3"
      ]
     },
     "execution_count": 82,
     "metadata": {},
     "output_type": "execute_result"
    }
   ],
   "source": [
    "mean.ndim"
   ]
  },
  {
   "cell_type": "code",
   "execution_count": 83,
   "metadata": {
    "collapsed": false,
    "scrolled": true
   },
   "outputs": [
    {
     "data": {
      "text/plain": [
       "array([[[ 123.68 ,  116.779,  103.939],\n",
       "        [ 123.68 ,  116.779,  103.939],\n",
       "        [ 123.68 ,  116.779,  103.939],\n",
       "        ..., \n",
       "        [ 123.68 ,  116.779,  103.939],\n",
       "        [ 123.68 ,  116.779,  103.939],\n",
       "        [ 123.68 ,  116.779,  103.939]],\n",
       "\n",
       "       [[ 123.68 ,  116.779,  103.939],\n",
       "        [ 123.68 ,  116.779,  103.939],\n",
       "        [ 123.68 ,  116.779,  103.939],\n",
       "        ..., \n",
       "        [ 123.68 ,  116.779,  103.939],\n",
       "        [ 123.68 ,  116.779,  103.939],\n",
       "        [ 123.68 ,  116.779,  103.939]],\n",
       "\n",
       "       [[ 123.68 ,  116.779,  103.939],\n",
       "        [ 123.68 ,  116.779,  103.939],\n",
       "        [ 123.68 ,  116.779,  103.939],\n",
       "        ..., \n",
       "        [ 123.68 ,  116.779,  103.939],\n",
       "        [ 123.68 ,  116.779,  103.939],\n",
       "        [ 123.68 ,  116.779,  103.939]],\n",
       "\n",
       "       ..., \n",
       "       [[ 123.68 ,  116.779,  103.939],\n",
       "        [ 123.68 ,  116.779,  103.939],\n",
       "        [ 123.68 ,  116.779,  103.939],\n",
       "        ..., \n",
       "        [ 123.68 ,  116.779,  103.939],\n",
       "        [ 123.68 ,  116.779,  103.939],\n",
       "        [ 123.68 ,  116.779,  103.939]],\n",
       "\n",
       "       [[ 123.68 ,  116.779,  103.939],\n",
       "        [ 123.68 ,  116.779,  103.939],\n",
       "        [ 123.68 ,  116.779,  103.939],\n",
       "        ..., \n",
       "        [ 123.68 ,  116.779,  103.939],\n",
       "        [ 123.68 ,  116.779,  103.939],\n",
       "        [ 123.68 ,  116.779,  103.939]],\n",
       "\n",
       "       [[ 123.68 ,  116.779,  103.939],\n",
       "        [ 123.68 ,  116.779,  103.939],\n",
       "        [ 123.68 ,  116.779,  103.939],\n",
       "        ..., \n",
       "        [ 123.68 ,  116.779,  103.939],\n",
       "        [ 123.68 ,  116.779,  103.939],\n",
       "        [ 123.68 ,  116.779,  103.939]]])"
      ]
     },
     "execution_count": 83,
     "metadata": {},
     "output_type": "execute_result"
    }
   ],
   "source": [
    "mean"
   ]
  },
  {
   "cell_type": "markdown",
   "metadata": {},
   "source": [
    "## weights"
   ]
  },
  {
   "cell_type": "code",
   "execution_count": 84,
   "metadata": {
    "collapsed": true
   },
   "outputs": [],
   "source": [
    "weights = data['layers'][0]"
   ]
  },
  {
   "cell_type": "code",
   "execution_count": 85,
   "metadata": {
    "collapsed": false
   },
   "outputs": [
    {
     "data": {
      "text/plain": [
       "43"
      ]
     },
     "execution_count": 85,
     "metadata": {},
     "output_type": "execute_result"
    }
   ],
   "source": [
    "len(weights)"
   ]
  },
  {
   "cell_type": "code",
   "execution_count": 86,
   "metadata": {
    "collapsed": false,
    "scrolled": true
   },
   "outputs": [
    {
     "data": {
      "text/plain": [
       "array([[ ([[array([[[[ 0.39416704, -0.08419707, -0.03631314, ..., -0.10720515,\n",
       "          -0.03804016,  0.04690642],\n",
       "         [ 0.46418372,  0.03355668,  0.10245045, ..., -0.06945956,\n",
       "          -0.04020201,  0.04048637],\n",
       "         [ 0.34119523,  0.09563112,  0.0177449 , ..., -0.11436455,\n",
       "          -0.05099866, -0.00299793]],\n",
       "\n",
       "        [[ 0.37740308, -0.07876257, -0.04775979, ..., -0.11827433,\n",
       "          -0.19008617, -0.01889699],\n",
       "         [ 0.41810837,  0.05260524,  0.09755926, ..., -0.09385028,\n",
       "          -0.20492788, -0.0573062 ],\n",
       "         [ 0.33999205,  0.13363543,  0.02129423, ..., -0.13025227,\n",
       "          -0.16508926, -0.06969624]],\n",
       "\n",
       "        [[-0.04594866, -0.11583115, -0.14462094, ..., -0.12290562,\n",
       "          -0.35782176, -0.27979308],\n",
       "         [-0.04806903, -0.00658076, -0.02234544, ..., -0.0878844 ,\n",
       "          -0.3915486 , -0.34632796],\n",
       "         [-0.04484424,  0.06471398, -0.07631404, ..., -0.12629718,\n",
       "          -0.29905206, -0.28253639]]],\n",
       "\n",
       "\n",
       "       [[[ 0.2671299 , -0.07969447,  0.05988706, ..., -0.09225675,\n",
       "           0.31764674,  0.42209673],\n",
       "         [ 0.30511212,  0.05677647,  0.21688674, ..., -0.06828708,\n",
       "           0.3440761 ,  0.44033417],\n",
       "         [ 0.23215917,  0.13365699,  0.12134422, ..., -0.1063385 ,\n",
       "           0.28406844,  0.35949969]],\n",
       "\n",
       "        [[ 0.09986369, -0.06240906,  0.07442063, ..., -0.02214639,\n",
       "           0.25912452,  0.42349899],\n",
       "         [ 0.10385381,  0.08851637,  0.2392226 , ..., -0.01210995,\n",
       "           0.27064082,  0.40848857],\n",
       "         [ 0.08978214,  0.18505956,  0.15264879, ..., -0.04266965,\n",
       "           0.25779948,  0.35873157]],\n",
       "\n",
       "        [[-0.34100872, -0.13399366, -0.11510294, ..., -0.11911335,\n",
       "          -0.23109646, -0.19202407],\n",
       "         [-0.37314063, -0.00698938,  0.02153259, ..., -0.09827439,\n",
       "          -0.2535741 , -0.25541356],\n",
       "         [-0.30331427,  0.08002605, -0.03926321, ..., -0.12958746,\n",
       "          -0.19778992, -0.21510386]]],\n",
       "\n",
       "\n",
       "       [[[-0.07573577, -0.07806503, -0.03540679, ..., -0.1208065 ,\n",
       "           0.20088433,  0.09790061],\n",
       "         [-0.07646758,  0.03879711,  0.09974211, ..., -0.08732687,\n",
       "           0.2247974 ,  0.10158388],\n",
       "         [-0.07260918,  0.10084777,  0.01313597, ..., -0.12594968,\n",
       "           0.14647409,  0.05009392]],\n",
       "\n",
       "        [[-0.28034249, -0.07094654, -0.0387974 , ..., -0.08843154,\n",
       "           0.18996507,  0.07766484],\n",
       "         [-0.31070709,  0.06031388,  0.10412455, ..., -0.06832542,\n",
       "           0.20279962,  0.05222717],\n",
       "         [-0.246675  ,  0.1414054 ,  0.02605635, ..., -0.10128672,\n",
       "           0.16340195,  0.02832468]],\n",
       "\n",
       "        [[-0.41602272, -0.11491341, -0.14672887, ..., -0.13079506,\n",
       "          -0.1379628 , -0.26588449],\n",
       "         [-0.46453714, -0.00576723, -0.02660675, ..., -0.10017379,\n",
       "          -0.15603794, -0.32566148],\n",
       "         [-0.33683276,  0.06601517, -0.08144748, ..., -0.13460518,\n",
       "          -0.1342358 , -0.27096185]]]], dtype=float32), array([[ 0.73017758,  0.06493629,  0.03428847,  0.8260386 ,  0.2578029 ,\n",
       "         0.54867655, -0.01243854,  0.34789944,  0.55108708,  0.06297145,\n",
       "         0.60699058,  0.26703122,  0.649414  ,  0.17073655,  0.47723091,\n",
       "         0.38250586,  0.46373144,  0.21496128,  0.46911287,  0.23825859,\n",
       "         0.47519219,  0.70606434,  0.27007523,  0.68552732,  0.03216552,\n",
       "         0.60252881,  0.35034859,  0.446798  ,  0.77326518,  0.58191687,\n",
       "         0.39083108,  1.75193536,  0.66117406,  0.30213955,  0.53059655,\n",
       "         0.67737472,  0.33273223,  0.49127793,  0.26548928,  0.18805602,\n",
       "         0.07412001,  1.10810876,  0.28224325,  0.86755145,  0.19422948,\n",
       "         0.810332  ,  0.36062282,  0.50720042,  0.42472315,  0.49632648,\n",
       "         0.15117475,  0.79454446,  0.33494323,  0.47283995,  0.41552398,\n",
       "         0.08496041,  0.37947032,  0.60067391,  0.47174454,  0.81309211,\n",
       "         0.45521152,  1.08920074,  0.47757268,  0.4072122 ]], dtype=float32)]], [[1.0, 1.0, 1.0, 1.0]], [u'conv'], [u'conv1_1'], [[1.0, 1.0]])]], \n",
       "      dtype=[('weights', 'O'), ('pad', 'O'), ('type', 'O'), ('name', 'O'), ('stride', 'O')])"
      ]
     },
     "execution_count": 86,
     "metadata": {},
     "output_type": "execute_result"
    }
   ],
   "source": [
    "weights[0]"
   ]
  },
  {
   "cell_type": "markdown",
   "metadata": {},
   "source": [
    "## make tensorflow network"
   ]
  },
  {
   "cell_type": "code",
   "execution_count": 92,
   "metadata": {
    "collapsed": true
   },
   "outputs": [],
   "source": [
    "def parseNet(data_path, input_image):\n",
    "    layers = (\n",
    "        'conv1_1', 'relu1_1', 'conv1_2', 'relu1_2', 'pool1',\n",
    "        \n",
    "        'conv2_1', 'relu2_1', 'conv2_2', 'relu2_2', 'pool2',\n",
    "        \n",
    "        'conv3_1', 'relu3_1', 'conv3_2', 'relu3_2', \n",
    "        'conv3_3', 'relu3_3', 'conv3_4', 'relu3_4', 'pool3',\n",
    "        \n",
    "        'conv4_1', 'relu4_1', 'conv4_2', 'relu4_2', \n",
    "        'conv4_3', 'relu4_3', 'conv4_4', 'relu4_4', 'pool4',\n",
    "        \n",
    "        'conv5_1', 'relu5_1', 'conv5_2', 'relu5_2', \n",
    "        'conv5_3', 'relu5_3', 'conv5_4', 'relu5_4'\n",
    "    )\n",
    "    \n",
    "    data_tmp = scipy.io.loadmat(data_path)\n",
    "    mean = data_tmp['normalization'][0][0][0]\n",
    "    mean_pixel = np.mean(mean, axis=(0, 1))\n",
    "    weights = data_tmp['layers'][0]\n",
    "    \n",
    "    net = {}\n",
    "    current = input_image\n",
    "    for i, name in enumerate(layers):\n",
    "        kind = name[:4]\n",
    "        if kind == 'conv':\n",
    "            kernels, bias = weights[i][0][0][0][0]\n",
    "            # matconvnet: weights are [width, height, in_channel, out_channel]\n",
    "            # tensorflow: weights are [height, width, in_channel, out_channel]\n",
    "            kernels = np.transpose(kernels, (1, 0, 2, 3))\n",
    "            bias = bias.reshape(-1)\n",
    "            current = _conv_layer(current, kernels, bias)\n",
    "        elif kind == 'relu':\n",
    "            current = tf.nn.relu(current)\n",
    "        elif kind == 'pool':\n",
    "            current = _pool_layer(current)\n",
    "        net[name] = current\n",
    "        \n",
    "    assert len(net) == len(layers)\n",
    "    \n",
    "    return net, mean_pixel\n",
    "\n",
    "def _conv_layer(input, weights, bias):\n",
    "    conv = tf.nn.conv2d(input, tf.constant(weights), strides=(1, 1, 1, 1), padding='SAME')\n",
    "    return tf.nn.bias_add(conv, bias)\n",
    "\n",
    "def _pool_layer(input):\n",
    "    return tf.nn.max_pool(input, ksize=(1, 2, 2, 1), strides=(1, 2, 2, 1), padding='SAME')\n",
    "\n",
    "def preprocess(image, mean_pixel):\n",
    "    return image - mean_pixel\n",
    "\n",
    "def unprocess(image, mean_pixel):\n",
    "    return image + mean_pixel"
   ]
  },
  {
   "cell_type": "markdown",
   "metadata": {},
   "source": [
    "## Image read/write function"
   ]
  },
  {
   "cell_type": "code",
   "execution_count": 12,
   "metadata": {
    "collapsed": true
   },
   "outputs": [],
   "source": [
    "def imread(path):\n",
    "    return scipy.misc.imread(path).astype(np.float)\n",
    "\n",
    "def imsave(path, img):\n",
    "    img = np.clip(img, 0, 255).astype(np.uint8)\n",
    "    scipy.misc.imsave(path, img)"
   ]
  },
  {
   "cell_type": "markdown",
   "metadata": {},
   "source": [
    "## Model loading and run"
   ]
  },
  {
   "cell_type": "code",
   "execution_count": 13,
   "metadata": {
    "collapsed": false
   },
   "outputs": [],
   "source": [
    "VGG_PATH = D_DATA_PATH\n",
    "IMG_PATH = D_IMG_PATH + D_IMG_FILENAME\n",
    "\n",
    "D_OUTPUT_FILENAME = 'train_VGG/'\n",
    "VGG_OUT_PATH = D_IMG_PATH + D_OUTPUT_FILENAME\n",
    "\n",
    "input_image = imread(IMG_PATH)\n",
    "shape = (1,) + input_image.shape # (h, w, nch) => (1, h, w, nch)"
   ]
  },
  {
   "cell_type": "code",
   "execution_count": 14,
   "metadata": {
    "collapsed": false
   },
   "outputs": [
    {
     "data": {
      "text/plain": [
       "(1, 512, 512, 3)"
      ]
     },
     "execution_count": 14,
     "metadata": {},
     "output_type": "execute_result"
    }
   ],
   "source": [
    "shape"
   ]
  },
  {
   "cell_type": "code",
   "execution_count": 96,
   "metadata": {
    "collapsed": false
   },
   "outputs": [
    {
     "name": "stdout",
     "output_type": "stream",
     "text": [
      "[1/4] relu2_1\n",
      " Type of 'features' is  <type 'numpy.ndarray'>\n",
      " Shape of 'features' is (1, 256, 256, 128)\n",
      "[2/4] relu3_1\n",
      " Type of 'features' is  <type 'numpy.ndarray'>\n",
      " Shape of 'features' is (1, 128, 128, 256)\n",
      "[3/4] relu4_1\n",
      " Type of 'features' is  <type 'numpy.ndarray'>\n",
      " Shape of 'features' is (1, 64, 64, 512)\n",
      "[4/4] relu5_4\n",
      " Type of 'features' is  <type 'numpy.ndarray'>\n",
      " Shape of 'features' is (1, 32, 32, 512)\n",
      "\n",
      "___.\n"
     ]
    },
    {
     "data": {
      "image/png": "[encoded data removed]",
      "text/plain": [
       "<matplotlib.figure.Figure at 0x7f5d584fcd10>"
      ]
     },
     "metadata": {},
     "output_type": "display_data"
    },
    {
     "data": {
      "image/png": "[encoded data removed]",
      "text/plain": [
       "<matplotlib.figure.Figure at 0x7f5d58755910>"
      ]
     },
     "metadata": {},
     "output_type": "display_data"
    },
    {
     "data": {
      "image/png": "[encoded data removed]",
      "text/plain": [
       "<matplotlib.figure.Figure at 0x7f5d58444350>"
      ]
     },
     "metadata": {},
     "output_type": "display_data"
    },
    {
     "data": {
      "image/png": "[encoded data removed]",
      "text/plain": [
       "<matplotlib.figure.Figure at 0x7f5d99200290>"
      ]
     },
     "metadata": {},
     "output_type": "display_data"
    }
   ],
   "source": [
    "with tf.Graph().as_default(), tf.Session() as sess:\n",
    "    image = tf.placeholder('float', shape=shape)\n",
    "    net, mean_pixel = parseNet(VGG_PATH, image)\n",
    "    input_image_pre = np.array([preprocess(input_image, mean_pixel)])\n",
    "    \n",
    "    # layers = all_layers # for all layers\n",
    "    layers = ('relu2_1', 'relu3_1', 'relu4_1', 'relu5_4')\n",
    "    \n",
    "    for i, layer in enumerate(layers):\n",
    "        print \"[%d/%d] %s\" % (i+1, len(layers), layer)\n",
    "        features = net[layer].eval(feed_dict={image: input_image_pre})\n",
    "        print \" Type of 'features' is \", type(features)\n",
    "        print \" Shape of 'features' is %s\" % (features.shape,)\n",
    "        \n",
    "        # write ndarray to file\n",
    "        with open(VGG_OUT_PATH + layer, 'w') as f:\n",
    "            np.save(f, features)\n",
    "        \n",
    "        # Plot response\n",
    "        if 1:\n",
    "            plt.figure(i+1)\n",
    "            plt.matshow(features[0, :, :, 0], cmap = plt.cm.gray, fignum=i+1)\n",
    "            plt.title(\"\" + layer)\n",
    "            plt.colorbar()\n",
    "\n",
    "print \"\\n___.\"\n",
    "plt.show()"
   ]
  },
  {
   "cell_type": "markdown",
   "metadata": {},
   "source": [
    "## Test ndarray data manage"
   ]
  },
  {
   "cell_type": "code",
   "execution_count": 38,
   "metadata": {
    "collapsed": false
   },
   "outputs": [
    {
     "data": {
      "text/plain": [
       "tensorflow.python.framework.ops.Tensor"
      ]
     },
     "execution_count": 38,
     "metadata": {},
     "output_type": "execute_result"
    }
   ],
   "source": [
    "type(net['relu1_1'])"
   ]
  },
  {
   "cell_type": "code",
   "execution_count": 73,
   "metadata": {
    "collapsed": false
   },
   "outputs": [
    {
     "name": "stdout",
     "output_type": "stream",
     "text": [
      "total 59408\r\n",
      "32772 -rw-r--r-- 1 root root 33554528 Sep  3 03:14 relu2_1\r\n",
      "16388 -rw-r--r-- 1 root root 16777312 Sep  3 03:14 relu3_1\r\n",
      " 8196 -rw-r--r-- 1 root root  8388704 Sep  3 03:14 relu4_1\r\n",
      " 2052 -rw-r--r-- 1 root root  2097248 Sep  3 03:14 relu5_4\r\n"
     ]
    }
   ],
   "source": [
    "!ls /data/nv_dlcontest_dataset/train_VGG/ -ls"
   ]
  },
  {
   "cell_type": "code",
   "execution_count": 75,
   "metadata": {
    "collapsed": false,
    "scrolled": true
   },
   "outputs": [
    {
     "name": "stdout",
     "output_type": "stream",
     "text": [
      "[[[[  0.          56.53656769   0.         ...,   0.           8.59654522\n",
      "      0.        ]\n",
      "   [  0.          67.19132233   0.         ...,   0.           0.           0.        ]\n",
      "   [  0.          45.00324249   0.         ...,   0.           0.           0.        ]\n",
      "   ..., \n",
      "   [  0.           0.           2.71035337 ...,   0.           7.06639051\n",
      "      0.        ]\n",
      "   [  0.           0.           0.         ...,   0.           3.27052498\n",
      "      2.31801057]\n",
      "   [  0.           0.           0.         ...,   0.           4.7259779\n",
      "      0.        ]]\n",
      "\n",
      "  [[  0.          73.67165375   0.         ...,   0.           0.           0.        ]\n",
      "   [  0.          58.64225769   0.         ...,   0.           0.           0.        ]\n",
      "   [  0.          39.51638031   0.         ...,   0.           0.           0.        ]\n",
      "   ..., \n",
      "   [  0.           0.           2.52273512 ...,   0.           0.86076212\n",
      "      0.        ]\n",
      "   [  0.           0.           0.         ...,   0.           0.\n",
      "      4.21311188]\n",
      "   [  0.           0.           0.         ...,   0.           0.\n",
      "      0.74312747]]\n",
      "\n",
      "  [[  0.          51.64933395   0.         ...,   0.           0.27428883\n",
      "      0.        ]\n",
      "   [  0.          40.85100937   0.         ...,   0.           0.           0.        ]\n",
      "   [  0.          30.13450241   0.         ...,   0.           0.           0.        ]\n",
      "   ..., \n",
      "   [  0.           0.           0.         ...,   0.          12.48596001\n",
      "      0.        ]\n",
      "   [  0.           0.           0.         ...,   0.           5.41042376\n",
      "      0.38616171]\n",
      "   [  0.           0.           0.         ...,   0.           0.67427939\n",
      "      0.        ]]\n",
      "\n",
      "  ..., \n",
      "  [[  0.           0.           0.         ...,   0.          14.75091743\n",
      "      0.        ]\n",
      "   [  0.           0.           0.         ...,   0.           0.           0.        ]\n",
      "   [  0.           0.           0.         ...,   0.           0.           0.        ]\n",
      "   ..., \n",
      "   [  0.           0.           0.         ...,   0.           0.           0.        ]\n",
      "   [  0.           0.           0.         ...,   0.           0.           0.        ]\n",
      "   [  0.           0.           0.         ...,   0.           0.           0.        ]]\n",
      "\n",
      "  [[  0.           5.13731766   0.         ...,   0.          16.36083031\n",
      "      0.        ]\n",
      "   [  0.           0.           0.         ...,   0.           0.           0.        ]\n",
      "   [  0.           0.           0.         ...,   0.           0.           0.        ]\n",
      "   ..., \n",
      "   [  0.           0.           0.         ...,   0.           0.           0.        ]\n",
      "   [  0.           0.           0.         ...,   0.           0.           0.        ]\n",
      "   [  0.           0.           0.         ...,   0.           0.           0.        ]]\n",
      "\n",
      "  [[  0.          25.63675117   0.         ...,  16.92326927  26.15367126\n",
      "      0.        ]\n",
      "   [  0.           0.           0.         ...,   0.          29.66736412\n",
      "      0.        ]\n",
      "   [  0.           0.           0.         ...,   0.          27.79903603\n",
      "      0.        ]\n",
      "   ..., \n",
      "   [  0.           0.           0.         ...,   0.           6.26919699\n",
      "      0.        ]\n",
      "   [  0.           0.           0.         ...,   0.           0.           0.        ]\n",
      "   [  0.           0.           0.         ...,   0.           0.           0.        ]]]]\n"
     ]
    }
   ],
   "source": [
    "with open('/data/nv_dlcontest_dataset/train_VGG/relu5_4') as f:\n",
    "    weight = np.load(f)\n",
    "    print weight"
   ]
  },
  {
   "cell_type": "code",
   "execution_count": null,
   "metadata": {
    "collapsed": true
   },
   "outputs": [],
   "source": []
  },
  {
   "cell_type": "markdown",
   "metadata": {},
   "source": [
    "## Packaging to Class"
   ]
  },
  {
   "cell_type": "code",
   "execution_count": 9,
   "metadata": {
    "collapsed": false
   },
   "outputs": [],
   "source": [
    "import scipy.io\n",
    "import numpy as np\n",
    "import os\n",
    "import scipy.misc\n",
    "import matplotlib.pyplot as plt\n",
    "import tensorflow as tf\n",
    "\n",
    "class image2VGG():\n",
    "    net = None\n",
    "    mean_pixel = None\n",
    "    shape = (1, 512, 512, 3)\n",
    "    \n",
    "    vggDataPath = '/data/model/imagenet-vgg-verydeep-19.mat'\n",
    "    \n",
    "    def __init__(self, vggDataPath=None):\n",
    "        \n",
    "        if vggDataPath is not None:\n",
    "            self.vggDataPath = vggDataPath\n",
    "            \n",
    "        pass\n",
    "    \n",
    "    def convertImageDir(self, inputPath, outputPath, model_path=None, forTest=None):\n",
    "        # /Directory/File\n",
    "        \n",
    "        label_list = []\n",
    "        \n",
    "        for file in os.listdir(inputPath):\n",
    "            label_list.append(file)\n",
    "\n",
    "        # http://stackoverflow.com/questions/3964681/find-all-files-in-directory-with-extension-txt-in-python\n",
    "        model_path = self.vggDataPath if model_path is None else model_path\n",
    "\n",
    "        with tf.Graph().as_default(), tf.Session() as sess:\n",
    "            image = tf.placeholder('float', shape=self.shape)\n",
    "            self.net, self.mean_pixel = self.parseNet(model_path, image)\n",
    "\n",
    "            # for each directory\n",
    "            for i, label in enumerate(label_list):\n",
    "\n",
    "                _tmp_path = outputPath + os.sep + label\n",
    "                if not os.path.exists(_tmp_path):\n",
    "                    os.mkdir(_tmp_path)\n",
    "                print (label)\n",
    "\n",
    "                # for each files in directory\n",
    "                for file2 in os.listdir(inputPath + os.sep + label):\n",
    "                    input_filename = inputPath + os.sep + label + os.sep + file2\n",
    "                    output_filename = outputPath + os.sep + label + os.sep + file2\n",
    "                    \n",
    "                    output_filename = output_filename[:-(len(output_filename.split('.')[-1])+1)]\n",
    "                    if os.path.exists(output_filename):\n",
    "                        continue\n",
    "                    \n",
    "                    input_image = self.getImageData(input_filename)\n",
    "                    \n",
    "                    if input_image is None:\n",
    "                        continue\n",
    "                    \n",
    "                    input_image_pre = np.array([self.preprocess(input_image, self.mean_pixel)])\n",
    "                    features = self.net['relu5_4'].eval(feed_dict={image: input_image_pre})\n",
    "        \n",
    "                    with open(output_filename, 'w') as f:\n",
    "                        np.save(f, features)\n",
    "                    \n",
    "                    # for test\n",
    "                    if forTest is not None:\n",
    "                        break\n",
    "                \n",
    "                # for test\n",
    "                if forTest is not None:\n",
    "                    break\n",
    "    \n",
    "    def convertTestImageDir(self, inputPath, outputPath, model_path=None, forTest=None):\n",
    "        # /Directory/File\n",
    "        \n",
    "        label_list = []\n",
    "\n",
    "        if not os.path.exists(outputPath):\n",
    "            os.mkdir(outputPath)\n",
    "        print (outputPath)\n",
    "\n",
    "        for file in os.listdir(inputPath):\n",
    "            label_list.append(file)\n",
    "\n",
    "        # http://stackoverflow.com/questions/3964681/find-all-files-in-directory-with-extension-txt-in-python\n",
    "        model_path = self.vggDataPath if model_path is None else model_path\n",
    "\n",
    "        with tf.Graph().as_default(), tf.Session() as sess:\n",
    "            image = tf.placeholder('float', shape=self.shape)\n",
    "            self.net, self.mean_pixel = self.parseNet(model_path, image)\n",
    "\n",
    "            # for each files in directory\n",
    "            for file2 in os.listdir(inputPath):\n",
    "                input_filename = inputPath + os.sep + file2\n",
    "                output_filename = outputPath + os.sep + file2\n",
    "\n",
    "                if file2.split('.')[-1] != 'jpg':\n",
    "                    print ('Skip: ' + file2)\n",
    "                    continue\n",
    "                \n",
    "                output_filename = output_filename[:-(len(output_filename.split('.')[-1])+1)]\n",
    "\n",
    "                input_image = self.getImageData(input_filename)\n",
    "\n",
    "                if input_image is None:\n",
    "                    continue\n",
    "\n",
    "                input_image_pre = np.array([self.preprocess(input_image, self.mean_pixel)])\n",
    "                features = self.net['relu5_4'].eval(feed_dict={image: input_image_pre})\n",
    "\n",
    "                with open(output_filename, 'w') as f:\n",
    "                    np.save(f, features)\n",
    "\n",
    "                # for test\n",
    "                if forTest is not None:\n",
    "                    break\n",
    "    \n",
    "    \n",
    "    def convertImageFile(self, inputFilenName, outputFileName):\n",
    "        features = self.convertImage(self.imread(inputFilenName))\n",
    "        \n",
    "        with open(outputFileName, 'w') as f:\n",
    "            np.save(f, features)\n",
    "    \n",
    "    def convertImage(self, input_image, model_path=None):\n",
    "        model_path = self.vggDataPath if model_path is None else model_path\n",
    "\n",
    "        with tf.Graph().as_default(), tf.Session() as sess:\n",
    "            image = tf.placeholder('float', shape=shape)\n",
    "            self.net, self.mean_pixel = parseNet(model_path, image)\n",
    "\n",
    "            input_image_pre = np.array([self.preprocess(input_image, self.mean_pixel)])\n",
    "            features = self.net['relu5_4'].eval(feed_dict={image: input_image_pre})\n",
    "        \n",
    "        return features\n",
    "    \n",
    "    \n",
    "    \n",
    "    \n",
    "    def getImageData(self, data_img_name):\n",
    "        tmp = self.imread(data_img_name)\n",
    "\n",
    "        if len(tmp.shape) < 3:\n",
    "            return None\n",
    "        \n",
    "        if tmp.shape[0] != 512 or tmp.shape[1] != 512:\n",
    "            _tmp = np.zeros((512, 512, 3))\n",
    "\n",
    "            s_y = (512 - tmp.shape[0])//2\n",
    "            s_x = (512 - tmp.shape[1])//2\n",
    "            e_y = s_y + tmp.shape[0]\n",
    "            e_x = s_x + tmp.shape[1]\n",
    "\n",
    "            _tmp[s_y:e_y, s_x:e_x, :] = tmp[:, :, :3]\n",
    "            tmp = _tmp\n",
    "\n",
    "        return tmp[:, :, :3]\n",
    "\n",
    "    def dataList(pathName):\n",
    "        data_img_name = []\n",
    "        data_label = []\n",
    "\n",
    "        label_list = []\n",
    "\n",
    "        for file in os.listdir(pathName):\n",
    "            label_list.append(file)\n",
    "\n",
    "        # http://stackoverflow.com/questions/3964681/find-all-files-in-directory-with-extension-txt-in-python\n",
    "        for i, label in enumerate(label_list):\n",
    "            for file2 in os.listdir(pathName + os.sep + label):\n",
    "                data_img_name.append(pathName + os.sep + label + os.sep + file2)\n",
    "                data_label.append(i)\n",
    "\n",
    "        return data_img_name, data_label, label_list\n",
    "\n",
    "    def drawResult(self, mat):\n",
    "        plt.figure(i+1)\n",
    "        plt.matshow(mat[0, :, :, 0], cmap = plt.cm.gray, fignum=i+1)\n",
    "        plt.title(\"\" + layer)\n",
    "        plt.colorbar()\n",
    "    \n",
    "    def imread(self, path):\n",
    "        return scipy.misc.imread(path).astype(np.float)\n",
    "\n",
    "    def imsave(self, path, img):\n",
    "        img = np.clip(img, 0, 255).astype(np.uint8)\n",
    "        scipy.misc.imsave(path, img)\n",
    "    \n",
    "    \n",
    "    def parseNet(self, data_path, input_image):\n",
    "        layers = (\n",
    "            'conv1_1', 'relu1_1', 'conv1_2', 'relu1_2', 'pool1',\n",
    "\n",
    "            'conv2_1', 'relu2_1', 'conv2_2', 'relu2_2', 'pool2',\n",
    "\n",
    "            'conv3_1', 'relu3_1', 'conv3_2', 'relu3_2', \n",
    "            'conv3_3', 'relu3_3', 'conv3_4', 'relu3_4', 'pool3',\n",
    "\n",
    "            'conv4_1', 'relu4_1', 'conv4_2', 'relu4_2', \n",
    "            'conv4_3', 'relu4_3', 'conv4_4', 'relu4_4', 'pool4',\n",
    "\n",
    "            'conv5_1', 'relu5_1', 'conv5_2', 'relu5_2', \n",
    "            'conv5_3', 'relu5_3', 'conv5_4', 'relu5_4'\n",
    "        )\n",
    "\n",
    "        data_tmp = scipy.io.loadmat(data_path)\n",
    "        mean = data_tmp['normalization'][0][0][0]\n",
    "        mean_pixel = np.mean(mean, axis=(0, 1))\n",
    "        weights = data_tmp['layers'][0]\n",
    "\n",
    "        net = {}\n",
    "        current = input_image\n",
    "        for i, name in enumerate(layers):\n",
    "            kind = name[:4]\n",
    "            if kind == 'conv':\n",
    "                kernels, bias = weights[i][0][0][0][0]\n",
    "                # matconvnet: weights are [width, height, in_channel, out_channel]\n",
    "                # tensorflow: weights are [height, width, in_channel, out_channel]\n",
    "                kernels = np.transpose(kernels, (1, 0, 2, 3))\n",
    "                bias = bias.reshape(-1)\n",
    "                current = self._conv_layer(current, kernels, bias)\n",
    "            elif kind == 'relu':\n",
    "                current = tf.nn.relu(current)\n",
    "            elif kind == 'pool':\n",
    "                current = self._pool_layer(current)\n",
    "            net[name] = current\n",
    "\n",
    "        assert len(net) == len(layers)\n",
    "\n",
    "        return net, mean_pixel\n",
    "\n",
    "    def _conv_layer(self, input, weights, bias):\n",
    "        conv = tf.nn.conv2d(input, tf.constant(weights), strides=(1, 1, 1, 1), padding='SAME')\n",
    "        return tf.nn.bias_add(conv, bias)\n",
    "\n",
    "    def _pool_layer(self, input):\n",
    "        return tf.nn.max_pool(input, ksize=(1, 2, 2, 1), strides=(1, 2, 2, 1), padding='SAME')\n",
    "\n",
    "    def preprocess(self, image, mean_pixel):\n",
    "        return image - mean_pixel\n",
    "\n",
    "    def unprocess(self, image, mean_pixel):\n",
    "        return image + mean_pixel\n",
    "    "
   ]
  },
  {
   "cell_type": "markdown",
   "metadata": {},
   "source": [
    "## Packaging test"
   ]
  },
  {
   "cell_type": "code",
   "execution_count": 10,
   "metadata": {
    "collapsed": false
   },
   "outputs": [],
   "source": [
    "converter = image2VGG()"
   ]
  },
  {
   "cell_type": "code",
   "execution_count": 140,
   "metadata": {
    "collapsed": false
   },
   "outputs": [
    {
     "data": {
      "image/png": "[encoded data removed]",
      "text/plain": [
       "<matplotlib.figure.Figure at 0x7f5d58520310>"
      ]
     },
     "metadata": {},
     "output_type": "display_data"
    }
   ],
   "source": [
    "D_IMG_FILENAME = 'train/apple_pie/100605.jpg'\n",
    "D_IMG_PATH = '/data/nv_dlcontest_dataset/'\n",
    "\n",
    "features = converter.convertImage(converter.imread(D_IMG_PATH + D_IMG_FILENAME))\n",
    "\n",
    "converter.drawResult(features)"
   ]
  },
  {
   "cell_type": "code",
   "execution_count": 144,
   "metadata": {
    "collapsed": false
   },
   "outputs": [
    {
     "data": {
      "image/png": "[encoded data removed]",
      "text/plain": [
       "<matplotlib.figure.Figure at 0x7f5d98f87f10>"
      ]
     },
     "metadata": {},
     "output_type": "display_data"
    }
   ],
   "source": [
    "features = converter.convertImage(converter.imread('/data/nv_dlcontest_dataset/train/onion_rings/844469.jpg'))\n",
    "\n",
    "converter.drawResult(features)"
   ]
  },
  {
   "cell_type": "code",
   "execution_count": 147,
   "metadata": {
    "collapsed": false
   },
   "outputs": [],
   "source": [
    "D_INPUT_IMG_DIR = D_IMG_PATH + 'train'\n",
    "D_OUTPUT_IMG_DIR = D_IMG_PATH + 'train_VGG'\n",
    "\n",
    "converter.convertImageDir(D_INPUT_IMG_DIR, D_OUTPUT_IMG_DIR, forTest=True)"
   ]
  },
  {
   "cell_type": "code",
   "execution_count": 148,
   "metadata": {
    "collapsed": false
   },
   "outputs": [
    {
     "data": {
      "text/plain": [
       "<matplotlib.figure.Figure at 0x7f5d9930e590>"
      ]
     },
     "metadata": {},
     "output_type": "display_data"
    },
    {
     "data": {
      "image/png": "[encoded data removed]",
      "text/plain": [
       "<matplotlib.figure.Figure at 0x7f5d60036310>"
      ]
     },
     "metadata": {},
     "output_type": "display_data"
    }
   ],
   "source": [
    "with open('/data/nv_dlcontest_dataset/train_VGG/scallops/664545') as f:\n",
    "    mat = np.load(f)\n",
    "    \n",
    "    plt.figure(1)\n",
    "    plt.matshow(mat[0, :, :, 0], cmap = plt.cm.gray, fignum=i+1)\n",
    "    plt.title(\"\" + layer)\n",
    "    plt.colorbar()"
   ]
  },
  {
   "cell_type": "code",
   "execution_count": 149,
   "metadata": {
    "collapsed": false
   },
   "outputs": [
    {
     "ename": "IOError",
     "evalue": "[Errno 2] No such file or directory: '/data/nv_dlcontest_dataset/train_VGG/onion_rings/844469'",
     "output_type": "error",
     "traceback": [
      "\u001b[0;31m---------------------------------------------------------------------------\u001b[0m",
      "\u001b[0;31mIOError\u001b[0m                                   Traceback (most recent call last)",
      "\u001b[0;32m<ipython-input-149-774d71594508>\u001b[0m in \u001b[0;36m<module>\u001b[0;34m()\u001b[0m\n\u001b[0;32m----> 1\u001b[0;31m \u001b[0;32mwith\u001b[0m \u001b[0mopen\u001b[0m\u001b[0;34m(\u001b[0m\u001b[0;34m'/data/nv_dlcontest_dataset/train_VGG/onion_rings/844469'\u001b[0m\u001b[0;34m)\u001b[0m \u001b[0;32mas\u001b[0m \u001b[0mf\u001b[0m\u001b[0;34m:\u001b[0m\u001b[0;34m\u001b[0m\u001b[0m\n\u001b[0m\u001b[1;32m      2\u001b[0m     \u001b[0mmat\u001b[0m \u001b[0;34m=\u001b[0m \u001b[0mnp\u001b[0m\u001b[0;34m.\u001b[0m\u001b[0mload\u001b[0m\u001b[0;34m(\u001b[0m\u001b[0mf\u001b[0m\u001b[0;34m)\u001b[0m\u001b[0;34m\u001b[0m\u001b[0m\n\u001b[1;32m      3\u001b[0m \u001b[0;34m\u001b[0m\u001b[0m\n\u001b[1;32m      4\u001b[0m     \u001b[0mplt\u001b[0m\u001b[0;34m.\u001b[0m\u001b[0mfigure\u001b[0m\u001b[0;34m(\u001b[0m\u001b[0;36m1\u001b[0m\u001b[0;34m)\u001b[0m\u001b[0;34m\u001b[0m\u001b[0m\n\u001b[1;32m      5\u001b[0m     \u001b[0mplt\u001b[0m\u001b[0;34m.\u001b[0m\u001b[0mmatshow\u001b[0m\u001b[0;34m(\u001b[0m\u001b[0mmat\u001b[0m\u001b[0;34m[\u001b[0m\u001b[0;36m0\u001b[0m\u001b[0;34m,\u001b[0m \u001b[0;34m:\u001b[0m\u001b[0;34m,\u001b[0m \u001b[0;34m:\u001b[0m\u001b[0;34m,\u001b[0m \u001b[0;36m0\u001b[0m\u001b[0;34m]\u001b[0m\u001b[0;34m,\u001b[0m \u001b[0mcmap\u001b[0m \u001b[0;34m=\u001b[0m \u001b[0mplt\u001b[0m\u001b[0;34m.\u001b[0m\u001b[0mcm\u001b[0m\u001b[0;34m.\u001b[0m\u001b[0mgray\u001b[0m\u001b[0;34m,\u001b[0m \u001b[0mfignum\u001b[0m\u001b[0;34m=\u001b[0m\u001b[0mi\u001b[0m\u001b[0;34m+\u001b[0m\u001b[0;36m1\u001b[0m\u001b[0;34m)\u001b[0m\u001b[0;34m\u001b[0m\u001b[0m\n",
      "\u001b[0;31mIOError\u001b[0m: [Errno 2] No such file or directory: '/data/nv_dlcontest_dataset/train_VGG/onion_rings/844469'"
     ]
    }
   ],
   "source": [
    "with open('/data/nv_dlcontest_dataset/train_VGG/onion_rings/844469') as f:\n",
    "    mat = np.load(f)\n",
    "    \n",
    "    plt.figure(1)\n",
    "    plt.matshow(mat[0, :, :, 0], cmap = plt.cm.gray, fignum=i+1)\n",
    "    plt.title(\"\" + layer)\n",
    "    plt.colorbar()"
   ]
  },
  {
   "cell_type": "markdown",
   "metadata": {},
   "source": [
    "## Converting start"
   ]
  },
  {
   "cell_type": "code",
   "execution_count": 24,
   "metadata": {
    "collapsed": true
   },
   "outputs": [],
   "source": [
    "D_IMG_FILENAME = 'train/apple_pie/100605.jpg'\n",
    "D_IMG_PATH = '/data/nv_dlcontest_dataset/'"
   ]
  },
  {
   "cell_type": "code",
   "execution_count": null,
   "metadata": {
    "collapsed": false,
    "scrolled": true
   },
   "outputs": [
    {
     "name": "stdout",
     "output_type": "stream",
     "text": [
      "scallops\n",
      "onion_rings\n",
      "chicken_curry\n",
      "french_onion_soup\n",
      "dumplings\n",
      "nachos\n",
      "tuna_tartare\n",
      "gnocchi\n",
      "gyoza\n",
      "bruschetta\n",
      "croque_madame\n",
      "edamame\n",
      "grilled_salmon\n",
      "sashimi\n",
      "spring_rolls\n",
      "risotto\n",
      "prime_rib\n",
      "pajeon\n",
      "cannoli\n",
      "soondae\n",
      "doenjang_chigae\n",
      "waffles\n",
      "macarons\n",
      "foie_gras\n",
      "dakbokkeumtang\n",
      "ceviche\n",
      "cheese_plate\n",
      "hot_dog\n",
      "ojingeo_bokkeum\n",
      "creme_brulee\n",
      "steak\n",
      "falafel\n",
      "lasagna\n",
      "cup_cakes\n",
      "spaghetti_bolognese\n",
      "omelette\n",
      "filet_mignon\n",
      "soondubu_jjigae\n",
      "chocolate_mousse\n",
      "caesar_salad\n",
      "spaghetti_carbonara\n",
      "peking_duck\n",
      "macaroni_and_cheese\n",
      "pulled_pork_sandwich\n",
      "escargots\n",
      "chicken_wings\n",
      "takoyaki\n",
      "bulgogi\n",
      "donuts\n",
      "samosa\n",
      "miso_soup\n",
      "panna_cotta\n",
      "fish_and_chips\n",
      "tiramisu\n",
      "guacamole\n",
      "lobster_roll_sandwich\n",
      "pad_thai\n",
      "bibimbap\n",
      "deviled_eggs\n",
      "churros\n",
      "galchijorim\n",
      "baby_back_ribs\n",
      "shrimp_and_grits\n",
      "red_velvet_cake\n",
      "hamburger\n",
      "mussels\n",
      "samgyetang\n",
      "sushi\n",
      "tacos\n",
      "greek_salad\n",
      "garlic_bread\n",
      "fried_rice\n",
      "carrot_cake\n",
      "pancakes\n",
      "huevos_rancheros\n",
      "nangmyeon\n",
      "jjajangmyeon\n",
      "jeyuk_bokkeum\n",
      "chicken_quesadilla\n",
      "beef_carpaccio\n",
      "daegaejjim\n",
      "galbijjim\n",
      "lobster_bisque\n",
      "grilled_cheese_sandwich\n",
      "clam_chowder\n",
      "gimbob\n",
      "beet_salad\n",
      "eggs_benedict\n",
      "kimchi\n",
      "beignets\n",
      "breakfast_burrito\n",
      "french_fries\n",
      "french_toast\n",
      "hot_and_sour_soup\n",
      "seaweed_salad\n",
      "ice_cream\n",
      "pizza\n",
      "hummus\n",
      "fried_calamari\n",
      "oysters\n",
      "caprese_salad\n",
      "beef_tartare\n",
      "bossam\n",
      "pho\n",
      "bread_pudding\n",
      "club_sandwich\n",
      "apple_pie\n",
      "ganjang_gejang\n"
     ]
    }
   ],
   "source": [
    "D_INPUT_IMG_DIR = D_IMG_PATH + 'train'\n",
    "D_OUTPUT_IMG_DIR = D_IMG_PATH + 'train_VGG'\n",
    "\n",
    "converter.convertImageDir(D_INPUT_IMG_DIR, D_OUTPUT_IMG_DIR)"
   ]
  },
  {
   "cell_type": "code",
   "execution_count": 14,
   "metadata": {
    "collapsed": false,
    "scrolled": true
   },
   "outputs": [
    {
     "name": "stdout",
     "output_type": "stream",
     "text": [
      "/data/nv_dlcontest_dataset/test_VGG\n",
      "Skip: .DS_Store\n"
     ]
    }
   ],
   "source": [
    "D_INPUT_IMG_DIR = D_IMG_PATH + 'test'\n",
    "D_OUTPUT_IMG_DIR = D_IMG_PATH + 'test_VGG'\n",
    "\n",
    "converter.convertTestImageDir(D_INPUT_IMG_DIR, D_OUTPUT_IMG_DIR)"
   ]
  },
  {
   "cell_type": "code",
   "execution_count": 15,
   "metadata": {
    "collapsed": false
   },
   "outputs": [
    {
     "name": "stdout",
     "output_type": "stream",
     "text": [
      "11565\r\n"
     ]
    }
   ],
   "source": [
    "!ls -1 /data/nv_dlcontest_dataset/test | wc -l"
   ]
  },
  {
   "cell_type": "code",
   "execution_count": 16,
   "metadata": {
    "collapsed": false
   },
   "outputs": [
    {
     "name": "stdout",
     "output_type": "stream",
     "text": [
      "11565\r\n"
     ]
    }
   ],
   "source": [
    "!ls -1 /data/nv_dlcontest_dataset/test_VGG | wc -l"
   ]
  },
  {
   "cell_type": "code",
   "execution_count": 17,
   "metadata": {
    "collapsed": false
   },
   "outputs": [
    {
     "name": "stdout",
     "output_type": "stream",
     "text": [
      "120\r\n"
     ]
    }
   ],
   "source": [
    "!ls -1 /data/nv_dlcontest_dataset/train | wc -l"
   ]
  },
  {
   "cell_type": "code",
   "execution_count": null,
   "metadata": {
    "collapsed": true
   },
   "outputs": [],
   "source": []
  }
 ],
 "metadata": {
  "kernelspec": {
   "display_name": "Python 2",
   "language": "python",
   "name": "python2"
  },
  "language_info": {
   "codemirror_mode": {
    "name": "ipython",
    "version": 2
   },
   "file_extension": ".py",
   "mimetype": "text/x-python",
   "name": "python",
   "nbconvert_exporter": "python",
   "pygments_lexer": "ipython2",
   "version": "2.7.6"
  }
 },
 "nbformat": 4,
 "nbformat_minor": 1
}
